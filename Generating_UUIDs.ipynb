{
  "nbformat": 4,
  "nbformat_minor": 0,
  "metadata": {
    "colab": {
      "provenance": [],
      "collapsed_sections": [],
      "authorship_tag": "ABX9TyMTubemeDPkUnOSBWnunJ9N",
      "include_colab_link": true
    },
    "kernelspec": {
      "name": "python3",
      "display_name": "Python 3"
    },
    "language_info": {
      "name": "python"
    }
  },
  "cells": [
    {
      "cell_type": "markdown",
      "metadata": {
        "id": "view-in-github",
        "colab_type": "text"
      },
      "source": [
        "<a href=\"https://colab.research.google.com/github/BeliseKundaTeta/BeliseKundaTeta.github.io/blob/main/Generating_UUIDs.ipynb\" target=\"_parent\"><img src=\"https://colab.research.google.com/assets/colab-badge.svg\" alt=\"Open In Colab\"/></a>"
      ]
    },
    {
      "cell_type": "code",
      "source": [
        "import pandas as pd\n",
        "import os\n",
        "import numpy as np\n",
        "from numpy import NaN\n",
        "import random\n",
        "import uuid"
      ],
      "metadata": {
        "id": "Bs6eI_0Oy73j"
      },
      "execution_count": 1,
      "outputs": []
    },
    {
      "cell_type": "code",
      "source": [
        "# pip install df2gspread"
      ],
      "metadata": {
        "colab": {
          "base_uri": "https://localhost:8080/",
          "height": 592
        },
        "id": "nVz1-wB8n8K9",
        "outputId": "10c0c60b-d6ae-4a72-d48c-a41f94bd7880"
      },
      "execution_count": 2,
      "outputs": [
        {
          "output_type": "stream",
          "name": "stdout",
          "text": [
            "Looking in indexes: https://pypi.org/simple, https://us-python.pkg.dev/colab-wheels/public/simple/\n",
            "Requirement already satisfied: df2gspread in /usr/local/lib/python3.7/dist-packages (1.0.4)\n",
            "Requirement already satisfied: oauth2client<5.0.0dev,>=1.5.0 in /usr/local/lib/python3.7/dist-packages (from df2gspread) (4.1.3)\n",
            "Requirement already satisfied: pandas in /usr/local/lib/python3.7/dist-packages (from df2gspread) (1.3.5)\n",
            "Requirement already satisfied: gspread>=2.1.1 in /usr/local/lib/python3.7/dist-packages (from df2gspread) (3.4.2)\n",
            "Collecting argparse>=1.3.0\n",
            "  Using cached argparse-1.4.0-py2.py3-none-any.whl (23 kB)\n",
            "Requirement already satisfied: google-api-python-client==1.6.7 in /usr/local/lib/python3.7/dist-packages (from df2gspread) (1.6.7)\n",
            "Requirement already satisfied: uritemplate<4dev,>=3.0.0 in /usr/local/lib/python3.7/dist-packages (from google-api-python-client==1.6.7->df2gspread) (3.0.1)\n",
            "Requirement already satisfied: six<2dev,>=1.6.1 in /usr/local/lib/python3.7/dist-packages (from google-api-python-client==1.6.7->df2gspread) (1.15.0)\n",
            "Requirement already satisfied: httplib2<1dev,>=0.9.2 in /usr/local/lib/python3.7/dist-packages (from google-api-python-client==1.6.7->df2gspread) (0.17.4)\n",
            "Requirement already satisfied: google-auth in /usr/local/lib/python3.7/dist-packages (from gspread>=2.1.1->df2gspread) (1.35.0)\n",
            "Requirement already satisfied: requests>=2.2.1 in /usr/local/lib/python3.7/dist-packages (from gspread>=2.1.1->df2gspread) (2.23.0)\n",
            "Requirement already satisfied: pyasn1>=0.1.7 in /usr/local/lib/python3.7/dist-packages (from oauth2client<5.0.0dev,>=1.5.0->df2gspread) (0.4.8)\n",
            "Requirement already satisfied: rsa>=3.1.4 in /usr/local/lib/python3.7/dist-packages (from oauth2client<5.0.0dev,>=1.5.0->df2gspread) (4.9)\n",
            "Requirement already satisfied: pyasn1-modules>=0.0.5 in /usr/local/lib/python3.7/dist-packages (from oauth2client<5.0.0dev,>=1.5.0->df2gspread) (0.2.8)\n",
            "Requirement already satisfied: idna<3,>=2.5 in /usr/local/lib/python3.7/dist-packages (from requests>=2.2.1->gspread>=2.1.1->df2gspread) (2.10)\n",
            "Requirement already satisfied: urllib3!=1.25.0,!=1.25.1,<1.26,>=1.21.1 in /usr/local/lib/python3.7/dist-packages (from requests>=2.2.1->gspread>=2.1.1->df2gspread) (1.24.3)\n",
            "Requirement already satisfied: certifi>=2017.4.17 in /usr/local/lib/python3.7/dist-packages (from requests>=2.2.1->gspread>=2.1.1->df2gspread) (2022.9.24)\n",
            "Requirement already satisfied: chardet<4,>=3.0.2 in /usr/local/lib/python3.7/dist-packages (from requests>=2.2.1->gspread>=2.1.1->df2gspread) (3.0.4)\n",
            "Requirement already satisfied: cachetools<5.0,>=2.0.0 in /usr/local/lib/python3.7/dist-packages (from google-auth->gspread>=2.1.1->df2gspread) (4.2.4)\n",
            "Requirement already satisfied: setuptools>=40.3.0 in /usr/local/lib/python3.7/dist-packages (from google-auth->gspread>=2.1.1->df2gspread) (57.4.0)\n",
            "Requirement already satisfied: pytz>=2017.3 in /usr/local/lib/python3.7/dist-packages (from pandas->df2gspread) (2022.4)\n",
            "Requirement already satisfied: python-dateutil>=2.7.3 in /usr/local/lib/python3.7/dist-packages (from pandas->df2gspread) (2.8.2)\n",
            "Requirement already satisfied: numpy>=1.17.3 in /usr/local/lib/python3.7/dist-packages (from pandas->df2gspread) (1.21.6)\n",
            "Installing collected packages: argparse\n",
            "Successfully installed argparse-1.4.0\n"
          ]
        },
        {
          "output_type": "display_data",
          "data": {
            "application/vnd.colab-display-data+json": {
              "pip_warning": {
                "packages": [
                  "argparse"
                ]
              }
            }
          },
          "metadata": {}
        }
      ]
    },
    {
      "cell_type": "code",
      "source": [
        "# from df2gspread import df2gspread as d2g"
      ],
      "metadata": {
        "id": "HuLXOBh7nQi4"
      },
      "execution_count": 3,
      "outputs": []
    },
    {
      "cell_type": "code",
      "execution_count": 4,
      "metadata": {
        "id": "GlbSqogf9wLn",
        "colab": {
          "base_uri": "https://localhost:8080/"
        },
        "outputId": "ebccd352-6cc6-4da8-93f5-8190685726a1"
      },
      "outputs": [
        {
          "output_type": "stream",
          "name": "stdout",
          "text": [
            "Drive already mounted at /content/gdrive; to attempt to forcibly remount, call drive.mount(\"/content/gdrive\", force_remount=True).\n"
          ]
        }
      ],
      "source": [
        "from google.colab import drive\n",
        "drive.mount('/content/gdrive')"
      ]
    },
    {
      "cell_type": "code",
      "source": [
        "from google.colab import auth\n",
        "import gspread\n",
        "from google.auth import default\n",
        "#autenticating to google\n",
        "auth.authenticate_user()\n",
        "creds, _ = default()\n",
        "gc = gspread.authorize(creds)"
      ],
      "metadata": {
        "id": "Fk06bMb-t0aA"
      },
      "execution_count": 5,
      "outputs": []
    },
    {
      "cell_type": "code",
      "source": [
        "creds, _"
      ],
      "metadata": {
        "colab": {
          "base_uri": "https://localhost:8080/"
        },
        "id": "6cORr1lAmeRp",
        "outputId": "9147f40f-6a6a-4947-f2d3-2f01347ca91a"
      },
      "execution_count": 6,
      "outputs": [
        {
          "output_type": "execute_result",
          "data": {
            "text/plain": [
              "(<google.auth.compute_engine.credentials.Credentials at 0x7f840ad26b10>, '')"
            ]
          },
          "metadata": {},
          "execution_count": 6
        }
      ]
    },
    {
      "cell_type": "markdown",
      "source": [
        "#### Loading Data Function"
      ],
      "metadata": {
        "id": "-kef_TV61Jn0"
      }
    },
    {
      "cell_type": "code",
      "source": [
        "def loading_data(name_worksheet):\n",
        "  #defining my worksheet\n",
        "  worksheet = gc.open(name_worksheet).sheet1\n",
        "\n",
        "  #get_all_values gives a list of rows\n",
        "  rows = worksheet.get_all_values()\n",
        "\n",
        "  #Convert to a DataFrame \n",
        "  df = pd.DataFrame(rows)\n",
        "\n",
        "  #setting row 0 to columns\n",
        "  df_copy = df.copy()\n",
        "  headers = df_copy.iloc[0]\n",
        "  df_copy = pd.DataFrame(df_copy.values[1:], columns=headers)\n",
        "\n",
        "  return df_copy\n",
        "\n"
      ],
      "metadata": {
        "id": "aR8N0_e7uGLu"
      },
      "execution_count": 7,
      "outputs": []
    },
    {
      "cell_type": "markdown",
      "source": [
        "#### Generating UUIDs"
      ],
      "metadata": {
        "id": "Ica_gnhs1WtM"
      }
    },
    {
      "cell_type": "code",
      "source": [
        "import uuid\n",
        "import random\n",
        "\n",
        "def generating_uuids(seed, df):\n",
        "  rd = random.Random()\n",
        "  rd.seed(seed)\n",
        "\n",
        "  for idx in range(len(df)):\n",
        "    df.loc[idx,\"UUIDs\"] = uuid.UUID(int=rd.getrandbits(128), version=4)\n",
        "\n",
        "  return df\n"
      ],
      "metadata": {
        "id": "0H9A6bZvPQJW"
      },
      "execution_count": 8,
      "outputs": []
    },
    {
      "cell_type": "markdown",
      "source": [
        "### **Sexual health data**"
      ],
      "metadata": {
        "id": "tQjgzyVmV2u8"
      }
    },
    {
      "cell_type": "code",
      "source": [
        "sexual_health_translated = loading_data(\"Sexual Health-All languages verified translations\")\n",
        "\n",
        "#sexual health dataset with UUIDs\n",
        "sexual_health_translated = generating_uuids(1,sexual_health_translated)\n",
        "sexual_health_translated = sexual_health_translated.set_index(\"UUIDs\")\n",
        "sexual_health_translated.head()"
      ],
      "metadata": {
        "colab": {
          "base_uri": "https://localhost:8080/",
          "height": 438
        },
        "id": "tN-thcWANaxy",
        "outputId": "4dde5b99-d77c-48c8-a0d1-7beecd2dbde9"
      },
      "execution_count": 9,
      "outputs": [
        {
          "output_type": "execute_result",
          "data": {
            "text/plain": [
              "0                                                                    Question (English)  \\\n",
              "UUIDs                                                                                     \n",
              "cd613e30-d8f1-4adf-91b7-584a2265b1f5            At what age can a girl become pregnant?   \n",
              "1e2feb89-414c-443c-9027-c4d1c386bbc4  Can a girl become pregnant before her first me...   \n",
              "78e51061-7311-48a3-82ce-6f447ed4d57b  Can a girl become pregnant before her first pe...   \n",
              "35bf992d-c9e9-4616-a12e-7696a6cecc1b  Can a girl become pregnant before her menstrua...   \n",
              "e4b06ce6-0741-47a8-bce4-2c8218072e8c  How can a girl become pregnant before her firs...   \n",
              "\n",
              "0                                                      Hindi-Translation (verification)  \\\n",
              "UUIDs                                                                                     \n",
              "cd613e30-d8f1-4adf-91b7-584a2265b1f5          किस उम्र में एक लड़की गर्भवती हो सकती है?   \n",
              "1e2feb89-414c-443c-9027-c4d1c386bbc4  क्या एक लड़की अपने पहले मासिक धर्म से पहले गर्...   \n",
              "78e51061-7311-48a3-82ce-6f447ed4d57b  क्या कोई लड़की अपनी पहली अवधि से पहले गर्भवती ...   \n",
              "35bf992d-c9e9-4616-a12e-7696a6cecc1b  क्या एक लड़की अपने मासिक धर्म चक्र शुरू होने स...   \n",
              "e4b06ce6-0741-47a8-bce4-2c8218072e8c  अपने पहले मासिक धर्म से पहले एक लड़की गर्भवती ...   \n",
              "\n",
              "0                                                      Khmer-Translation (verification)  \\\n",
              "UUIDs                                                                                     \n",
              "cd613e30-d8f1-4adf-91b7-584a2265b1f5            តើក្មេងស្រីអាចមានផ្ទៃពោះនៅអាយុប៉ុន្មាន?   \n",
              "1e2feb89-414c-443c-9027-c4d1c386bbc4  តើក្មេងស្រីអាចមានផ្ទៃពោះបាននៅចំពោះមុខការមករដូវ...   \n",
              "78e51061-7311-48a3-82ce-6f447ed4d57b  តើក្មេងស្រីអាចមានផ្ទៃពោះបាននៅចំពោះមុខរយៈពេលដំប...   \n",
              "35bf992d-c9e9-4616-a12e-7696a6cecc1b  តើក្មេងស្រីអាចមានផ្ទៃពោះបានទេនៅចំពោះមុខវដ្តរដូ...   \n",
              "e4b06ce6-0741-47a8-bce4-2c8218072e8c  តើក្មេងស្រីអាចមានផ្ទៃពោះបានមុនពេលមានរដូវដំបូងយ...   \n",
              "\n",
              "0                                                    Spanish-Translation (verification)  \\\n",
              "UUIDs                                                                                     \n",
              "cd613e30-d8f1-4adf-91b7-584a2265b1f5               ¿A qué edad puedo quedar embarazada?   \n",
              "1e2feb89-414c-443c-9027-c4d1c386bbc4  ¿Puede una niña quedar embarazada antes de su ...   \n",
              "78e51061-7311-48a3-82ce-6f447ed4d57b  ¿Puede una niña quedar embarazada antes de su ...   \n",
              "35bf992d-c9e9-4616-a12e-7696a6cecc1b  ¿Puede una niña quedar embarazada antes de que...   \n",
              "e4b06ce6-0741-47a8-bce4-2c8218072e8c  ¿Cómo puede una niña quedar embarazada antes d...   \n",
              "\n",
              "0                                                  Kiswahili-Translation (verification)  \n",
              "UUIDs                                                                                    \n",
              "cd613e30-d8f1-4adf-91b7-584a2265b1f5   Msichana anaweza kuwa mjamzito katika umri gani?  \n",
              "1e2feb89-414c-443c-9027-c4d1c386bbc4  Msichana anaweza kuwa mjamzito kabla ya hedhi ...  \n",
              "78e51061-7311-48a3-82ce-6f447ed4d57b  Msichana anaweza kuwa mjamzito kabla ya kipind...  \n",
              "35bf992d-c9e9-4616-a12e-7696a6cecc1b  Msichana anaweza kuwa mjamzito kabla ya mzungu...  \n",
              "e4b06ce6-0741-47a8-bce4-2c8218072e8c  Msichana anawezaje kuwa mjamzito kabla ya hedh...  "
            ],
            "text/html": [
              "\n",
              "  <div id=\"df-3be5dd1c-3153-4758-b3fd-6944c47a7698\">\n",
              "    <div class=\"colab-df-container\">\n",
              "      <div>\n",
              "<style scoped>\n",
              "    .dataframe tbody tr th:only-of-type {\n",
              "        vertical-align: middle;\n",
              "    }\n",
              "\n",
              "    .dataframe tbody tr th {\n",
              "        vertical-align: top;\n",
              "    }\n",
              "\n",
              "    .dataframe thead th {\n",
              "        text-align: right;\n",
              "    }\n",
              "</style>\n",
              "<table border=\"1\" class=\"dataframe\">\n",
              "  <thead>\n",
              "    <tr style=\"text-align: right;\">\n",
              "      <th></th>\n",
              "      <th>Question (English)</th>\n",
              "      <th>Hindi-Translation (verification)</th>\n",
              "      <th>Khmer-Translation (verification)</th>\n",
              "      <th>Spanish-Translation (verification)</th>\n",
              "      <th>Kiswahili-Translation (verification)</th>\n",
              "    </tr>\n",
              "    <tr>\n",
              "      <th>UUIDs</th>\n",
              "      <th></th>\n",
              "      <th></th>\n",
              "      <th></th>\n",
              "      <th></th>\n",
              "      <th></th>\n",
              "    </tr>\n",
              "  </thead>\n",
              "  <tbody>\n",
              "    <tr>\n",
              "      <th>cd613e30-d8f1-4adf-91b7-584a2265b1f5</th>\n",
              "      <td>At what age can a girl become pregnant?</td>\n",
              "      <td>किस उम्र में एक लड़की गर्भवती हो सकती है?</td>\n",
              "      <td>តើក្មេងស្រីអាចមានផ្ទៃពោះនៅអាយុប៉ុន្មាន?</td>\n",
              "      <td>¿A qué edad puedo quedar embarazada?</td>\n",
              "      <td>Msichana anaweza kuwa mjamzito katika umri gani?</td>\n",
              "    </tr>\n",
              "    <tr>\n",
              "      <th>1e2feb89-414c-443c-9027-c4d1c386bbc4</th>\n",
              "      <td>Can a girl become pregnant before her first me...</td>\n",
              "      <td>क्या एक लड़की अपने पहले मासिक धर्म से पहले गर्...</td>\n",
              "      <td>តើក្មេងស្រីអាចមានផ្ទៃពោះបាននៅចំពោះមុខការមករដូវ...</td>\n",
              "      <td>¿Puede una niña quedar embarazada antes de su ...</td>\n",
              "      <td>Msichana anaweza kuwa mjamzito kabla ya hedhi ...</td>\n",
              "    </tr>\n",
              "    <tr>\n",
              "      <th>78e51061-7311-48a3-82ce-6f447ed4d57b</th>\n",
              "      <td>Can a girl become pregnant before her first pe...</td>\n",
              "      <td>क्या कोई लड़की अपनी पहली अवधि से पहले गर्भवती ...</td>\n",
              "      <td>តើក្មេងស្រីអាចមានផ្ទៃពោះបាននៅចំពោះមុខរយៈពេលដំប...</td>\n",
              "      <td>¿Puede una niña quedar embarazada antes de su ...</td>\n",
              "      <td>Msichana anaweza kuwa mjamzito kabla ya kipind...</td>\n",
              "    </tr>\n",
              "    <tr>\n",
              "      <th>35bf992d-c9e9-4616-a12e-7696a6cecc1b</th>\n",
              "      <td>Can a girl become pregnant before her menstrua...</td>\n",
              "      <td>क्या एक लड़की अपने मासिक धर्म चक्र शुरू होने स...</td>\n",
              "      <td>តើក្មេងស្រីអាចមានផ្ទៃពោះបានទេនៅចំពោះមុខវដ្តរដូ...</td>\n",
              "      <td>¿Puede una niña quedar embarazada antes de que...</td>\n",
              "      <td>Msichana anaweza kuwa mjamzito kabla ya mzungu...</td>\n",
              "    </tr>\n",
              "    <tr>\n",
              "      <th>e4b06ce6-0741-47a8-bce4-2c8218072e8c</th>\n",
              "      <td>How can a girl become pregnant before her firs...</td>\n",
              "      <td>अपने पहले मासिक धर्म से पहले एक लड़की गर्भवती ...</td>\n",
              "      <td>តើក្មេងស្រីអាចមានផ្ទៃពោះបានមុនពេលមានរដូវដំបូងយ...</td>\n",
              "      <td>¿Cómo puede una niña quedar embarazada antes d...</td>\n",
              "      <td>Msichana anawezaje kuwa mjamzito kabla ya hedh...</td>\n",
              "    </tr>\n",
              "  </tbody>\n",
              "</table>\n",
              "</div>\n",
              "      <button class=\"colab-df-convert\" onclick=\"convertToInteractive('df-3be5dd1c-3153-4758-b3fd-6944c47a7698')\"\n",
              "              title=\"Convert this dataframe to an interactive table.\"\n",
              "              style=\"display:none;\">\n",
              "        \n",
              "  <svg xmlns=\"http://www.w3.org/2000/svg\" height=\"24px\"viewBox=\"0 0 24 24\"\n",
              "       width=\"24px\">\n",
              "    <path d=\"M0 0h24v24H0V0z\" fill=\"none\"/>\n",
              "    <path d=\"M18.56 5.44l.94 2.06.94-2.06 2.06-.94-2.06-.94-.94-2.06-.94 2.06-2.06.94zm-11 1L8.5 8.5l.94-2.06 2.06-.94-2.06-.94L8.5 2.5l-.94 2.06-2.06.94zm10 10l.94 2.06.94-2.06 2.06-.94-2.06-.94-.94-2.06-.94 2.06-2.06.94z\"/><path d=\"M17.41 7.96l-1.37-1.37c-.4-.4-.92-.59-1.43-.59-.52 0-1.04.2-1.43.59L10.3 9.45l-7.72 7.72c-.78.78-.78 2.05 0 2.83L4 21.41c.39.39.9.59 1.41.59.51 0 1.02-.2 1.41-.59l7.78-7.78 2.81-2.81c.8-.78.8-2.07 0-2.86zM5.41 20L4 18.59l7.72-7.72 1.47 1.35L5.41 20z\"/>\n",
              "  </svg>\n",
              "      </button>\n",
              "      \n",
              "  <style>\n",
              "    .colab-df-container {\n",
              "      display:flex;\n",
              "      flex-wrap:wrap;\n",
              "      gap: 12px;\n",
              "    }\n",
              "\n",
              "    .colab-df-convert {\n",
              "      background-color: #E8F0FE;\n",
              "      border: none;\n",
              "      border-radius: 50%;\n",
              "      cursor: pointer;\n",
              "      display: none;\n",
              "      fill: #1967D2;\n",
              "      height: 32px;\n",
              "      padding: 0 0 0 0;\n",
              "      width: 32px;\n",
              "    }\n",
              "\n",
              "    .colab-df-convert:hover {\n",
              "      background-color: #E2EBFA;\n",
              "      box-shadow: 0px 1px 2px rgba(60, 64, 67, 0.3), 0px 1px 3px 1px rgba(60, 64, 67, 0.15);\n",
              "      fill: #174EA6;\n",
              "    }\n",
              "\n",
              "    [theme=dark] .colab-df-convert {\n",
              "      background-color: #3B4455;\n",
              "      fill: #D2E3FC;\n",
              "    }\n",
              "\n",
              "    [theme=dark] .colab-df-convert:hover {\n",
              "      background-color: #434B5C;\n",
              "      box-shadow: 0px 1px 3px 1px rgba(0, 0, 0, 0.15);\n",
              "      filter: drop-shadow(0px 1px 2px rgba(0, 0, 0, 0.3));\n",
              "      fill: #FFFFFF;\n",
              "    }\n",
              "  </style>\n",
              "\n",
              "      <script>\n",
              "        const buttonEl =\n",
              "          document.querySelector('#df-3be5dd1c-3153-4758-b3fd-6944c47a7698 button.colab-df-convert');\n",
              "        buttonEl.style.display =\n",
              "          google.colab.kernel.accessAllowed ? 'block' : 'none';\n",
              "\n",
              "        async function convertToInteractive(key) {\n",
              "          const element = document.querySelector('#df-3be5dd1c-3153-4758-b3fd-6944c47a7698');\n",
              "          const dataTable =\n",
              "            await google.colab.kernel.invokeFunction('convertToInteractive',\n",
              "                                                     [key], {});\n",
              "          if (!dataTable) return;\n",
              "\n",
              "          const docLinkHtml = 'Like what you see? Visit the ' +\n",
              "            '<a target=\"_blank\" href=https://colab.research.google.com/notebooks/data_table.ipynb>data table notebook</a>'\n",
              "            + ' to learn more about interactive tables.';\n",
              "          element.innerHTML = '';\n",
              "          dataTable['output_type'] = 'display_data';\n",
              "          await google.colab.output.renderOutput(dataTable, element);\n",
              "          const docLink = document.createElement('div');\n",
              "          docLink.innerHTML = docLinkHtml;\n",
              "          element.appendChild(docLink);\n",
              "        }\n",
              "      </script>\n",
              "    </div>\n",
              "  </div>\n",
              "  "
            ]
          },
          "metadata": {},
          "execution_count": 9
        }
      ]
    },
    {
      "cell_type": "markdown",
      "source": [
        "### **Menstrual health data**"
      ],
      "metadata": {
        "id": "6E_46mAeWqCq"
      }
    },
    {
      "cell_type": "code",
      "source": [
        "menstrual_health_translated = loading_data(\"Menstrual Health-All languages verified translations\")\n",
        "\n",
        "#Menstrual health dataset with UUIDs\n",
        "menstrual_health_translated = generating_uuids(2,menstrual_health_translated)\n",
        "menstrual_health_translated = menstrual_health_translated.set_index(\"UUIDs\")\n",
        "menstrual_health_translated.head()"
      ],
      "metadata": {
        "colab": {
          "base_uri": "https://localhost:8080/",
          "height": 403
        },
        "id": "EVOatIW_RdkV",
        "outputId": "0feb4394-af22-4955-f675-70f04abdcfd7"
      },
      "execution_count": 10,
      "outputs": [
        {
          "output_type": "execute_result",
          "data": {
            "text/plain": [
              "0                                                                    Question (English)  \\\n",
              "UUIDs                                                                                     \n",
              "d95bafc8-f2a4-427b-9cf4-bb99f4bea973  How do I keep myself clean during my menstrual...   \n",
              "5c6e4337-15ba-4bdd-9772-19d30e7a269f  What is the best way to clean myself during me...   \n",
              "cf1822ff-bc68-4778-ab49-1044d5e34124  What is the best way to clean myself during my...   \n",
              "4067c358-4ee2-47f8-9a94-e3e8ab73738f  What is the best way to clean myself during my...   \n",
              "0925e474-9b57-4bd1-b653-f8dd9b1f282e  What is the best way to clean myself while I'm...   \n",
              "\n",
              "0                                                      Hindi-Translation (verification)  \\\n",
              "UUIDs                                                                                     \n",
              "d95bafc8-f2a4-427b-9cf4-bb99f4bea973  मैं अपने मासिक धर्म चक्र के दौरान खुद को कैसे ...   \n",
              "5c6e4337-15ba-4bdd-9772-19d30e7a269f  मासिक धर्म के दौरान खुद को साफ करने का सबसे अच...   \n",
              "cf1822ff-bc68-4778-ab49-1044d5e34124  मेरे मासिक धर्म चक्र के दौरान खुद को साफ करने ...   \n",
              "4067c358-4ee2-47f8-9a94-e3e8ab73738f  मेरी अवधि के दौरान खुद को साफ करने का सबसे अच्...   \n",
              "0925e474-9b57-4bd1-b653-f8dd9b1f282e  जब मेरा खून बह रहा है तो खुद को साफ करने का सब...   \n",
              "\n",
              "0                                                      Khmer-Translation (verification)  \\\n",
              "UUIDs                                                                                     \n",
              "d95bafc8-f2a4-427b-9cf4-bb99f4bea973  តើខ្ញុំគួររក្សារាងកាយរបស់ខ្ញុំឱ្យស្អាតដោយរបៀបណ...   \n",
              "5c6e4337-15ba-4bdd-9772-19d30e7a269f  តើវិធីសាស្រ្តអ្វីដែលល្អបំផុតក្នុងការសម្អាតខ្លួ...   \n",
              "cf1822ff-bc68-4778-ab49-1044d5e34124  តើវិធីសាស្រ្តអ្វីដែលល្អបំផុតក្នុងការសម្អាតខ្លួ...   \n",
              "4067c358-4ee2-47f8-9a94-e3e8ab73738f  តើវិធីសាស្រ្តអ្វីដែលល្អបំផុតក្នុងការសម្អាតខ្លួ...   \n",
              "0925e474-9b57-4bd1-b653-f8dd9b1f282e  តើវិធីសាស្រ្តអ្វីដែលល្អបំផុតក្នុងការសម្អាតខ្លួ...   \n",
              "\n",
              "0                                                    Spanish-Translation (verification)  \\\n",
              "UUIDs                                                                                     \n",
              "d95bafc8-f2a4-427b-9cf4-bb99f4bea973  ¿Cómo me mantengo limpia durante mi ciclo mens...   \n",
              "5c6e4337-15ba-4bdd-9772-19d30e7a269f  ¿Cuál es la mejor manera de limpiarme durante ...   \n",
              "cf1822ff-bc68-4778-ab49-1044d5e34124  ¿Cuál es la mejor manera de limpiarme durante ...   \n",
              "4067c358-4ee2-47f8-9a94-e3e8ab73738f  ¿Cuál es la mejor manera de limpiarme durante ...   \n",
              "0925e474-9b57-4bd1-b653-f8dd9b1f282e  ¿Cuál es la mejor manera de limpiarme mientras...   \n",
              "\n",
              "0                                                  Kiswahili-Translation (verification)  \n",
              "UUIDs                                                                                    \n",
              "d95bafc8-f2a4-427b-9cf4-bb99f4bea973  Je! Ninawezaje kujiweka safi wakati wa mzunguk...  \n",
              "5c6e4337-15ba-4bdd-9772-19d30e7a269f  Je! Ni ipi njia bora ya kujisafisha wakati wa ...  \n",
              "cf1822ff-bc68-4778-ab49-1044d5e34124  Je! Ni ipi njia bora ya kujisafisha wakati wa ...  \n",
              "4067c358-4ee2-47f8-9a94-e3e8ab73738f  Je! Ni ipi njia bora ya kujisafisha wakati wa ...  \n",
              "0925e474-9b57-4bd1-b653-f8dd9b1f282e  Je! Ni ipi njia bora ya kujisafisha wakati nin...  "
            ],
            "text/html": [
              "\n",
              "  <div id=\"df-46c05243-62ef-447d-b830-d1eefde08109\">\n",
              "    <div class=\"colab-df-container\">\n",
              "      <div>\n",
              "<style scoped>\n",
              "    .dataframe tbody tr th:only-of-type {\n",
              "        vertical-align: middle;\n",
              "    }\n",
              "\n",
              "    .dataframe tbody tr th {\n",
              "        vertical-align: top;\n",
              "    }\n",
              "\n",
              "    .dataframe thead th {\n",
              "        text-align: right;\n",
              "    }\n",
              "</style>\n",
              "<table border=\"1\" class=\"dataframe\">\n",
              "  <thead>\n",
              "    <tr style=\"text-align: right;\">\n",
              "      <th></th>\n",
              "      <th>Question (English)</th>\n",
              "      <th>Hindi-Translation (verification)</th>\n",
              "      <th>Khmer-Translation (verification)</th>\n",
              "      <th>Spanish-Translation (verification)</th>\n",
              "      <th>Kiswahili-Translation (verification)</th>\n",
              "    </tr>\n",
              "    <tr>\n",
              "      <th>UUIDs</th>\n",
              "      <th></th>\n",
              "      <th></th>\n",
              "      <th></th>\n",
              "      <th></th>\n",
              "      <th></th>\n",
              "    </tr>\n",
              "  </thead>\n",
              "  <tbody>\n",
              "    <tr>\n",
              "      <th>d95bafc8-f2a4-427b-9cf4-bb99f4bea973</th>\n",
              "      <td>How do I keep myself clean during my menstrual...</td>\n",
              "      <td>मैं अपने मासिक धर्म चक्र के दौरान खुद को कैसे ...</td>\n",
              "      <td>តើខ្ញុំគួររក្សារាងកាយរបស់ខ្ញុំឱ្យស្អាតដោយរបៀបណ...</td>\n",
              "      <td>¿Cómo me mantengo limpia durante mi ciclo mens...</td>\n",
              "      <td>Je! Ninawezaje kujiweka safi wakati wa mzunguk...</td>\n",
              "    </tr>\n",
              "    <tr>\n",
              "      <th>5c6e4337-15ba-4bdd-9772-19d30e7a269f</th>\n",
              "      <td>What is the best way to clean myself during me...</td>\n",
              "      <td>मासिक धर्म के दौरान खुद को साफ करने का सबसे अच...</td>\n",
              "      <td>តើវិធីសាស្រ្តអ្វីដែលល្អបំផុតក្នុងការសម្អាតខ្លួ...</td>\n",
              "      <td>¿Cuál es la mejor manera de limpiarme durante ...</td>\n",
              "      <td>Je! Ni ipi njia bora ya kujisafisha wakati wa ...</td>\n",
              "    </tr>\n",
              "    <tr>\n",
              "      <th>cf1822ff-bc68-4778-ab49-1044d5e34124</th>\n",
              "      <td>What is the best way to clean myself during my...</td>\n",
              "      <td>मेरे मासिक धर्म चक्र के दौरान खुद को साफ करने ...</td>\n",
              "      <td>តើវិធីសាស្រ្តអ្វីដែលល្អបំផុតក្នុងការសម្អាតខ្លួ...</td>\n",
              "      <td>¿Cuál es la mejor manera de limpiarme durante ...</td>\n",
              "      <td>Je! Ni ipi njia bora ya kujisafisha wakati wa ...</td>\n",
              "    </tr>\n",
              "    <tr>\n",
              "      <th>4067c358-4ee2-47f8-9a94-e3e8ab73738f</th>\n",
              "      <td>What is the best way to clean myself during my...</td>\n",
              "      <td>मेरी अवधि के दौरान खुद को साफ करने का सबसे अच्...</td>\n",
              "      <td>តើវិធីសាស្រ្តអ្វីដែលល្អបំផុតក្នុងការសម្អាតខ្លួ...</td>\n",
              "      <td>¿Cuál es la mejor manera de limpiarme durante ...</td>\n",
              "      <td>Je! Ni ipi njia bora ya kujisafisha wakati wa ...</td>\n",
              "    </tr>\n",
              "    <tr>\n",
              "      <th>0925e474-9b57-4bd1-b653-f8dd9b1f282e</th>\n",
              "      <td>What is the best way to clean myself while I'm...</td>\n",
              "      <td>जब मेरा खून बह रहा है तो खुद को साफ करने का सब...</td>\n",
              "      <td>តើវិធីសាស្រ្តអ្វីដែលល្អបំផុតក្នុងការសម្អាតខ្លួ...</td>\n",
              "      <td>¿Cuál es la mejor manera de limpiarme mientras...</td>\n",
              "      <td>Je! Ni ipi njia bora ya kujisafisha wakati nin...</td>\n",
              "    </tr>\n",
              "  </tbody>\n",
              "</table>\n",
              "</div>\n",
              "      <button class=\"colab-df-convert\" onclick=\"convertToInteractive('df-46c05243-62ef-447d-b830-d1eefde08109')\"\n",
              "              title=\"Convert this dataframe to an interactive table.\"\n",
              "              style=\"display:none;\">\n",
              "        \n",
              "  <svg xmlns=\"http://www.w3.org/2000/svg\" height=\"24px\"viewBox=\"0 0 24 24\"\n",
              "       width=\"24px\">\n",
              "    <path d=\"M0 0h24v24H0V0z\" fill=\"none\"/>\n",
              "    <path d=\"M18.56 5.44l.94 2.06.94-2.06 2.06-.94-2.06-.94-.94-2.06-.94 2.06-2.06.94zm-11 1L8.5 8.5l.94-2.06 2.06-.94-2.06-.94L8.5 2.5l-.94 2.06-2.06.94zm10 10l.94 2.06.94-2.06 2.06-.94-2.06-.94-.94-2.06-.94 2.06-2.06.94z\"/><path d=\"M17.41 7.96l-1.37-1.37c-.4-.4-.92-.59-1.43-.59-.52 0-1.04.2-1.43.59L10.3 9.45l-7.72 7.72c-.78.78-.78 2.05 0 2.83L4 21.41c.39.39.9.59 1.41.59.51 0 1.02-.2 1.41-.59l7.78-7.78 2.81-2.81c.8-.78.8-2.07 0-2.86zM5.41 20L4 18.59l7.72-7.72 1.47 1.35L5.41 20z\"/>\n",
              "  </svg>\n",
              "      </button>\n",
              "      \n",
              "  <style>\n",
              "    .colab-df-container {\n",
              "      display:flex;\n",
              "      flex-wrap:wrap;\n",
              "      gap: 12px;\n",
              "    }\n",
              "\n",
              "    .colab-df-convert {\n",
              "      background-color: #E8F0FE;\n",
              "      border: none;\n",
              "      border-radius: 50%;\n",
              "      cursor: pointer;\n",
              "      display: none;\n",
              "      fill: #1967D2;\n",
              "      height: 32px;\n",
              "      padding: 0 0 0 0;\n",
              "      width: 32px;\n",
              "    }\n",
              "\n",
              "    .colab-df-convert:hover {\n",
              "      background-color: #E2EBFA;\n",
              "      box-shadow: 0px 1px 2px rgba(60, 64, 67, 0.3), 0px 1px 3px 1px rgba(60, 64, 67, 0.15);\n",
              "      fill: #174EA6;\n",
              "    }\n",
              "\n",
              "    [theme=dark] .colab-df-convert {\n",
              "      background-color: #3B4455;\n",
              "      fill: #D2E3FC;\n",
              "    }\n",
              "\n",
              "    [theme=dark] .colab-df-convert:hover {\n",
              "      background-color: #434B5C;\n",
              "      box-shadow: 0px 1px 3px 1px rgba(0, 0, 0, 0.15);\n",
              "      filter: drop-shadow(0px 1px 2px rgba(0, 0, 0, 0.3));\n",
              "      fill: #FFFFFF;\n",
              "    }\n",
              "  </style>\n",
              "\n",
              "      <script>\n",
              "        const buttonEl =\n",
              "          document.querySelector('#df-46c05243-62ef-447d-b830-d1eefde08109 button.colab-df-convert');\n",
              "        buttonEl.style.display =\n",
              "          google.colab.kernel.accessAllowed ? 'block' : 'none';\n",
              "\n",
              "        async function convertToInteractive(key) {\n",
              "          const element = document.querySelector('#df-46c05243-62ef-447d-b830-d1eefde08109');\n",
              "          const dataTable =\n",
              "            await google.colab.kernel.invokeFunction('convertToInteractive',\n",
              "                                                     [key], {});\n",
              "          if (!dataTable) return;\n",
              "\n",
              "          const docLinkHtml = 'Like what you see? Visit the ' +\n",
              "            '<a target=\"_blank\" href=https://colab.research.google.com/notebooks/data_table.ipynb>data table notebook</a>'\n",
              "            + ' to learn more about interactive tables.';\n",
              "          element.innerHTML = '';\n",
              "          dataTable['output_type'] = 'display_data';\n",
              "          await google.colab.output.renderOutput(dataTable, element);\n",
              "          const docLink = document.createElement('div');\n",
              "          docLink.innerHTML = docLinkHtml;\n",
              "          element.appendChild(docLink);\n",
              "        }\n",
              "      </script>\n",
              "    </div>\n",
              "  </div>\n",
              "  "
            ]
          },
          "metadata": {},
          "execution_count": 10
        }
      ]
    },
    {
      "cell_type": "code",
      "source": [
        "# docs.google.com/spreadsheets/d/1GgZYRam_CmcFH7Py6WRlj0EQoKGhtR8W2RbKpGhLL10/edit#gid=0"
      ],
      "metadata": {
        "id": "c1bnrb30Rdvu"
      },
      "execution_count": 11,
      "outputs": []
    },
    {
      "cell_type": "code",
      "source": [
        "# spreadsheet_key = \"1GgZYRam_CmcFH7Py6WRlj0EQoKGhtR8W2RbKpGhLL10\"\n",
        "# wks_name = 'Master'\n",
        "\n"
      ],
      "metadata": {
        "id": "wRnFpPYslhnS"
      },
      "execution_count": 12,
      "outputs": []
    },
    {
      "cell_type": "code",
      "source": [
        "# d2g.upload(menstrual_health_translated, spreadsheet_key, wks_name, credentials=creds, row_names=True)"
      ],
      "metadata": {
        "id": "JJKaSPJMmXbA"
      },
      "execution_count": 13,
      "outputs": []
    }
  ]
}